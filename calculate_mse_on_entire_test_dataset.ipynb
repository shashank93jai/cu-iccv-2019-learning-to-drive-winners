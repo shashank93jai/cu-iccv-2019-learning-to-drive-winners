{
 "cells": [
  {
   "cell_type": "code",
   "execution_count": 2,
   "metadata": {},
   "outputs": [
    {
     "name": "stdout",
     "output_type": "stream",
     "text": [
      "Loading data from ./Drive360Images_160_90/drive360challenge_split_test_stratify.csv...\n",
      "Phase: test # of data: 136080\n"
     ]
    }
   ],
   "source": [
    "import json\n",
    "from dataset import Drive360Loader\n",
    "import pandas as pd\n",
    "\n",
    "#Config to load non downsampled un-normalized test data\n",
    "config = json.load(open('./config - load test data 2020-04-22.json'))\n",
    "test_loader = Drive360Loader(config, 'test')\n",
    "\n",
    "df = test_loader.drive360.dataframe.loc[test_loader.drive360.indices]\n",
    "df.reset_index(inplace=True, drop=True)\n",
    "\n",
    "results_to_plot = [\n",
    "    ('resnet34.csv', 'resnet34'),\n",
    "    ('resnext101_32x4d_ssl.csv', 'resnext101_32x4d_ssl'),\n",
    "    ('resnext101_32x4d_swsl.csv', 'resnext101_32x4d_swsl'),\n",
    "    ('simclr.csv', 'simclr')\n",
    "]\n",
    "\n",
    "for results, label in results_to_plot:\n",
    "    pred = pd.read_csv('evaluate_model_all_bottom_frozen/results/' + results)\n",
    "    df['pred_speed_{}'.format(label)] = pred['canSpeed']\n",
    "    df['pred_steer_{}'.format(label)] = pred['canSteering']\n",
    "\n",
    "df.rename(columns={\n",
    "    'canSpeed': 'true_speed',\n",
    "    'canSteering': 'true_steer'\n",
    "}, inplace=True)"
   ]
  },
  {
   "cell_type": "code",
   "execution_count": 3,
   "metadata": {},
   "outputs": [
    {
     "name": "stdout",
     "output_type": "stream",
     "text": [
      "Model -  resnet34\n",
      "Model -  resnext101_32x4d_ssl\n",
      "Model -  resnext101_32x4d_swsl\n",
      "Model -  simclr\n",
      "MSE steering -  [602.6839107226288, 571.6572160168778, 595.0946423372643, 581.10731467566]\n",
      "MSE speed -  [7.912877217399591, 6.942681341754661, 7.128119002236442, 7.519118052253404]\n"
     ]
    }
   ],
   "source": [
    "#Calculate MSE for each model on entire test data and store in it a csv\n",
    "from sklearn.metrics import mean_squared_error\n",
    "\n",
    "models_list = ['resnet34','resnext101_32x4d_ssl','resnext101_32x4d_swsl', 'simclr']\n",
    "mse_steer_list = []\n",
    "mse_speed_list = []\n",
    "y_true_steering = df['true_steer'].to_numpy()\n",
    "y_true_speed = df['true_speed'].to_numpy()\n",
    "\n",
    "for label in models_list:\n",
    "    print(\"Model - \", label)\n",
    "    #MSE for steering\n",
    "    pred_steering = df['pred_steer_{}'.format(label)].to_numpy()\n",
    "    mse_steer = mean_squared_error(y_true_steering, pred_steering)\n",
    "    mse_steer_list.append(mse_steer)\n",
    "    \n",
    "    #MSE for speed\n",
    "    pred_speed = df['pred_speed_{}'.format(label)].to_numpy()\n",
    "    mse_speed = mean_squared_error(y_true_speed, pred_speed)\n",
    "    mse_speed_list.append(mse_speed)\n",
    "    \n",
    "print(\"MSE steering - \", mse_steer_list)\n",
    "print(\"MSE speed - \", mse_speed_list)\n",
    "df = pd.DataFrame(list(zip(models_list,mse_steer_list,mse_speed_list)), \n",
    "                  columns=['Model name','MSE Steering','MSE speed'])\n",
    "df.to_csv(\"evaluate_model_all_bottom_frozen/models_mse_on_entire_test_dataset.csv\")"
   ]
  },
  {
   "cell_type": "code",
   "execution_count": null,
   "metadata": {},
   "outputs": [],
   "source": []
  }
 ],
 "metadata": {
  "kernelspec": {
   "display_name": "Python 3",
   "language": "python",
   "name": "python3"
  },
  "language_info": {
   "codemirror_mode": {
    "name": "ipython",
    "version": 3
   },
   "file_extension": ".py",
   "mimetype": "text/x-python",
   "name": "python",
   "nbconvert_exporter": "python",
   "pygments_lexer": "ipython3",
   "version": "3.7.6"
  }
 },
 "nbformat": 4,
 "nbformat_minor": 4
}
